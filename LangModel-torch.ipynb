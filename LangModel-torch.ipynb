{
 "cells": [
  {
   "cell_type": "markdown",
   "id": "80dd1dde",
   "metadata": {},
   "source": [
    "## Background\n",
    "\n",
    "We have heard of [embeddings](https://developers.google.com/machine-learning/crash-course/embeddings/video-lecture) in relation to Large Language Models (LLMs).  LLMs are built on very very large (millions to billion+) [tokens](https://arxiv.org/pdf/2203.15556.pdf) in a large (hundreds to few thousands) dimensional space. \n",
    "\n",
    "Below we build a simple DeepLearning model with <b>2-D embeddings and visualize them</b>.\n",
    "\n",
    "\n",
    "## Model\n",
    "\n",
    "Below code is built based on the tutorial by Andrej Karpathy. Highly recommend his Deep Learning [playlist](https://www.youtube.com/watch?v=VMj-3S1tku0&list=PLAqhIrjkxbuWI23v9cThsA9GvCAUhRvKZ), take time to listen, understand, and work through the code, make changes, fail and succeed.\n",
    "\n",
    "Approach is based on Multi-Layer Perceptron (MLP) [paper](https://www.jmlr.org/papers/volume3/bengio03a/bengio03a.pdf) by Bengio et al. (2003). \n",
    "Instead of using words(tokens) to build sentences as in the paper, characters(tokens) are used to build names. Model has no hidden layer. Hidden layers can be added by changing the variable <i>hlayers = N</i>.\n",
    "\n",
    "Model has a total of 27 tokens, 26 lower case alphabets and a start/stop character. Tokens are embedded in a 2 dimensional vector space and stored as a tensor C internally in the model.\n",
    "\n",
    "Goal is a build a model to guess names."
   ]
  },
  {
   "cell_type": "code",
   "execution_count": 1,
   "id": "9618484a",
   "metadata": {},
   "outputs": [],
   "source": [
    "import string\n",
    "\n",
    "import numpy as np\n",
    "import copy\n",
    "import requests\n",
    "\n",
    "import torch\n",
    "import torch.nn as nn\n",
    "import torch.nn.functional as F\n",
    "from torch.utils.data import DataLoader, TensorDataset\n",
    "\n",
    "from torchsummary import summary\n",
    "\n",
    "from sklearn.model_selection import train_test_split\n",
    "\n",
    "import matplotlib.pyplot as plt"
   ]
  },
  {
   "cell_type": "code",
   "execution_count": 2,
   "id": "d3bfb98f",
   "metadata": {},
   "outputs": [
    {
     "name": "stdout",
     "output_type": "stream",
     "text": [
      "Total number of words: 32033\n"
     ]
    }
   ],
   "source": [
    "# Download datafile from makemore github repo\n",
    "#url=\"https://raw.githubusercontent.com/karpathy/makemore/master/names.txt\"\n",
    "#words = requests.get(url,timeout=5).text.splitlines()\n",
    "\n",
    "#OR if the file is downloaded locally\n",
    "words = open(\"./data/names.txt\",'r').read().splitlines()\n",
    "print(f\"Total number of words: {len(words)}\")"
   ]
  },
  {
   "cell_type": "code",
   "execution_count": 3,
   "id": "f610d01e",
   "metadata": {},
   "outputs": [
    {
     "name": "stdout",
     "output_type": "stream",
     "text": [
      "25626 3204 3203\n",
      "torch.Size([182513, 4]) torch.Size([22916, 4]) torch.Size([22717, 4]) torch.Size([182513]) torch.Size([22916]) torch.Size([22717])\n"
     ]
    }
   ],
   "source": [
    "# Build a MLP model, reduced representation, https://www.jmlr.org/papers/volume3/bengio03a/bengio03a.pdf\n",
    "\n",
    "#Block size (Sequence length)\n",
    "blk_sz = 4\n",
    "\n",
    "stoi = {x:i for i, x in enumerate(list(string.ascii_lowercase), 1)}\n",
    "# Represents word beginning or ending\n",
    "stoi['.'] = 0\n",
    "itos = {i:x for x,i in stoi.items()}\n",
    "\n",
    "def build_ngram(words):\n",
    "    X = []\n",
    "    Y = []\n",
    "    for i, w in enumerate(words):\n",
    "        context = [0]*blk_sz\n",
    "        for c in f\"{w}.\":\n",
    "            ix = stoi[c]\n",
    "            X.append(context)\n",
    "            Y.append(ix)\n",
    "            #print(''.join(itos[i] for i in context), '-->', c)\n",
    "            context = context[1:] + [ix]\n",
    "    return torch.tensor(X, dtype=torch.int32), torch.tensor(Y, dtype=torch.long)\n",
    "\n",
    "# Split the data into training, dev/validation, test set\n",
    "trn_d, tst_d = train_test_split(words, test_size=0.2)\n",
    "val_d, tst_d = train_test_split(tst_d, test_size=0.5)\n",
    "print(len(trn_d), len(tst_d), len(val_d))\n",
    "\n",
    "trn_d, trn_l = build_ngram(trn_d)\n",
    "tst_d, tst_l = build_ngram(tst_d)\n",
    "val_d, val_l = build_ngram(val_d)\n",
    "print(trn_d.shape, tst_d.shape, val_d.shape, trn_l.shape, tst_l.shape, val_l.shape)\n",
    "\n",
    "# create dataloader objects\n",
    "batch_size = 64\n",
    "dl_trn = DataLoader(TensorDataset(trn_d, trn_l), shuffle=True, batch_size=batch_size, drop_last=True)\n",
    "dl_val = DataLoader(TensorDataset(val_d, val_l), batch_size=len(val_l))"
   ]
  },
  {
   "cell_type": "code",
   "execution_count": 4,
   "id": "27ad5314",
   "metadata": {},
   "outputs": [],
   "source": [
    "class DLmodel(nn.Module):\n",
    "    def __init__(self, nunits, nlayers, indim, outdim):\n",
    "        super().__init__()\n",
    "        \n",
    "        self.nlayers = nlayers\n",
    "        self.layers = nn.ModuleDict()\n",
    "        self.layers['input'] = nn.Linear(indim, nunits, bias=False)\n",
    "        self.layers[f\"bnorm-inp\"] = nn.BatchNorm1d(nunits, momentum=0.001)\n",
    "        self.layers[f\"nl-inp\"] = nn.Tanh()\n",
    "        for i in range(nlayers):\n",
    "            self.layers[f\"hidden-{i}\"] = nn.Linear(nunits, nunits, bias=False)\n",
    "            self.layers[f\"bnorm-{i}\"] = nn.BatchNorm1d(nunits, momentum=0.001)\n",
    "            self.layers[f\"nl-{i}\"] = nn.Tanh()\n",
    "        self.layers['output'] = nn.Linear(nunits, outdim)\n",
    "\n",
    "\n",
    "    # forward prop\n",
    "    def forward(self, data):\n",
    "        x = self.layers[\"input\"](data)\n",
    "        x = self.layers[f\"bnorm-inp\"](x)\n",
    "        x = self.layers[f\"nl-inp\"](x)\n",
    "        for i in range(self.nlayers):\n",
    "            x = self.layers[f\"hidden-{i}\"](x)\n",
    "            x = self.layers[f\"bnorm-{i}\"](x)\n",
    "            x = self.layers[f\"nl-{i}\"](x)\n",
    "        x = self.layers[\"output\"](x)\n",
    "        return x\n"
   ]
  },
  {
   "cell_type": "code",
   "execution_count": 5,
   "id": "b71e3dd1",
   "metadata": {},
   "outputs": [
    {
     "name": "stdout",
     "output_type": "stream",
     "text": [
      "=================================================================\n",
      "Layer (type:depth-idx)                   Param #\n",
      "=================================================================\n",
      "├─ModuleDict: 1-1                        --\n",
      "|    └─Linear: 2-1                       2,000\n",
      "|    └─BatchNorm1d: 2-2                  200\n",
      "|    └─Tanh: 2-3                         --\n",
      "|    └─Linear: 2-4                       2,727\n",
      "=================================================================\n",
      "Total params: 4,927\n",
      "Trainable params: 4,927\n",
      "Non-trainable params: 0\n",
      "=================================================================\n",
      "DLmodel(\n",
      "  (layers): ModuleDict(\n",
      "    (input): Linear(in_features=20, out_features=100, bias=False)\n",
      "    (bnorm-inp): BatchNorm1d(100, eps=1e-05, momentum=0.001, affine=True, track_running_stats=True)\n",
      "    (nl-inp): Tanh()\n",
      "    (output): Linear(in_features=100, out_features=27, bias=True)\n",
      "  )\n",
      ")\n"
     ]
    }
   ],
   "source": [
    "# Create the model\n",
    "\n",
    "#embedding size\n",
    "emb_sz = 5\n",
    "\n",
    "out_sz = 27\n",
    "units = 100\n",
    "hlayers = 0\n",
    "\n",
    "# units in hidden layers, number of hidden layers, input size, output size\n",
    "mdl = DLmodel(units, hlayers, emb_sz*blk_sz, out_sz)\n",
    "summary(mdl)\n",
    "print(mdl)"
   ]
  },
  {
   "cell_type": "code",
   "execution_count": 6,
   "id": "8c00b9c2",
   "metadata": {},
   "outputs": [],
   "source": [
    "# Create the 2 dimensional feature vector C, easier to visualize the token embeddings \n",
    "sd = torch.Generator().manual_seed(42)\n",
    "C = torch.randn((out_sz, emb_sz), generator=sd)\n",
    "Cinit = copy.deepcopy(C)\n",
    "C.requires_grad = True"
   ]
  },
  {
   "cell_type": "code",
   "execution_count": 7,
   "id": "65a139ee",
   "metadata": {},
   "outputs": [],
   "source": [
    "def mdltrn(mdl, trn_data, val_data, lossfn, optimizer='SGD', epochs=100, lr=0.01):\n",
    "    #pytorch automatically attaches the sigmoid to the output layer inside the loss function\n",
    "    #i.e. F.CrossEntropyLoss = F.log_softmax(F.nll_loss)\n",
    "    optm = getattr(torch.optim, optimizer)([C] + list(mdl.parameters()), lr=lr)\n",
    "\n",
    "    trnloss = np.zeros(epochs)\n",
    "    tstloss = np.zeros(epochs)\n",
    "    for i in range(epochs):\n",
    "        batchloss = []\n",
    "        for X, y in trn_data:\n",
    "            emb = C[X]           \n",
    "            yH = mdl(emb.view(-1, blk_sz*emb_sz))\n",
    "            loss = lossfn(yH, y)\n",
    "\n",
    "            #backprop\n",
    "            optm.zero_grad()\n",
    "            loss.backward()\n",
    "            optm.step()\n",
    "\n",
    "            batchloss.append(loss.item())\n",
    "\n",
    "        trnloss[i] = np.mean(batchloss)\n",
    "        \n",
    "        # Epoch Test Loss\n",
    "        X, y = next(iter(val_data))\n",
    "        mdl.eval()\n",
    "        with torch.no_grad():\n",
    "            emb = C[X]\n",
    "            yH = mdl(emb.view(-1, blk_sz*emb_sz))\n",
    "        tstloss[i] = lossfn(yH, y)\n",
    "        mdl.train()\n",
    "    return trnloss, tstloss"
   ]
  },
  {
   "cell_type": "code",
   "execution_count": 8,
   "id": "f5a1c9b7",
   "metadata": {},
   "outputs": [
    {
     "name": "stdout",
     "output_type": "stream",
     "text": [
      "10 epochs: Training loss - 2.185, Validation loss - 2.194\n",
      "20 epochs: Training loss - 2.158, Validation loss - 2.169\n",
      "30 epochs: Training loss - 2.147, Validation loss - 2.162\n",
      "40 epochs: Training loss - 2.142, Validation loss - 2.159\n",
      "50 epochs: Training loss - 2.139, Validation loss - 2.153\n",
      "60 epochs: Training loss - 2.136, Validation loss - 2.157\n",
      "70 epochs: Training loss - 2.135, Validation loss - 2.151\n",
      "80 epochs: Training loss - 2.133, Validation loss - 2.151\n",
      "90 epochs: Training loss - 2.117, Validation loss - 2.135\n",
      "100 epochs: Training loss - 2.105, Validation loss - 2.127\n"
     ]
    }
   ],
   "source": [
    "# Using SGD with manual learning rate decay\n",
    "# Recommendeded to use Adam optimizer because of faster convergence (less epochs), \n",
    "# and doesn't require setting learning rate decay. \n",
    "optm = 'SGD'\n",
    "lossfn = nn.CrossEntropyLoss()\n",
    "\n",
    "# List of number of epochs and learning rate\n",
    "lr_e = [(10, .1)]*10\n",
    "lr_e[-2] = (10, .05)\n",
    "lr_e[-1] = (10, .01)\n",
    "\n",
    "trnloss = []\n",
    "valloss = []\n",
    "for i, item in enumerate(lr_e, 1):\n",
    "    trnlossi, vallossi  = mdltrn(mdl, dl_trn, dl_val, lossfn, optm, item[0], item[1])\n",
    "    print(f\"{i*item[0]} epochs: Training loss - {trnlossi[-1]:.3f}, Validation loss - {vallossi[-1]:.3f}\")\n",
    "    trnloss += list(trnlossi)\n",
    "    valloss += list(vallossi)"
   ]
  },
  {
   "cell_type": "code",
   "execution_count": 9,
   "id": "393161b3",
   "metadata": {},
   "outputs": [
    {
     "data": {
      "image/png": "[encoded data removed]",
      "text/plain": [
       "<Figure size 1000x400 with 1 Axes>"
      ]
     },
     "metadata": {},
     "output_type": "display_data"
    }
   ],
   "source": [
    "fig = plt.figure(figsize=(10, 4))\n",
    "plt.plot(trnlossi, '.', label=\"Training\")\n",
    "plt.plot(vallossi, '.', label=\"Validation\")\n",
    "plt.title(f\"Final Train loss:{trnloss[-1]:.3f}, Validation loss:{valloss[-1]:.3f}\")\n",
    "plt.legend()\n",
    "plt.show()"
   ]
  },
  {
   "cell_type": "code",
   "execution_count": 10,
   "id": "1bbed015",
   "metadata": {},
   "outputs": [
    {
     "data": {
      "image/png": "[encoded data removed]",
      "text/plain": [
       "<Figure size 800x400 with 2 Axes>"
      ]
     },
     "metadata": {},
     "output_type": "display_data"
    }
   ],
   "source": [
    "#Visualize embeddings before and after training\n",
    "#Based on the training dataset, the model has arrived at character affinity.\n",
    "#i.e. Characters that are semantically similar are closer to each other e.g. vowels\n",
    "#If we rerun the model, characters affinity will be different. \n",
    "#DL models are indeterministic,\n",
    "#Randomization of model weights&biases or data(due to shuffle or different data) leads of different models every time\n",
    "\n",
    "fig, ax = plt.subplots(1,2, figsize=(8,4))\n",
    "ax[0].scatter(Cinit[:,0].data, Cinit[:,1].data, s=200)\n",
    "ax[1].scatter(C[:,0].data, C[:,1].data, s=200)\n",
    "ax[0].set_xlabel(\"Before\")\n",
    "ax[1].set_xlabel(\"After\")\n",
    "for i in range(C.shape[0]):\n",
    "    ax[0].text(Cinit[i,0].item(), Cinit[i,1].item(), itos[i], ha=\"center\", va=\"center\", color=\"white\")\n",
    "    ax[1].text(C[i,0].item(), C[i,1].item(), itos[i], ha=\"center\", va=\"center\", color=\"white\")\n",
    "for i in range(2):\n",
    "    ax[i].set_xticks(())\n",
    "    ax[i].set_yticks(())\n",
    "\n",
    "fig.suptitle(\"Embeddings before and after training\")\n",
    "plt.show()"
   ]
  },
  {
   "cell_type": "code",
   "execution_count": 11,
   "id": "90ba6559",
   "metadata": {},
   "outputs": [
    {
     "name": "stdout",
     "output_type": "stream",
     "text": [
      "Final Test loss: 2.1100080013275146\n"
     ]
    }
   ],
   "source": [
    "# Final test loss\n",
    "mdl.eval()\n",
    "with torch.no_grad():\n",
    "    emb = C[tst_d]\n",
    "    yH = mdl(emb.view(-1, blk_sz*emb_sz))\n",
    "loss = lossfn(yH, tst_l)\n",
    "print(f\"Final Test loss: {loss}\")"
   ]
  },
  {
   "cell_type": "code",
   "execution_count": 12,
   "id": "7b2f00dc",
   "metadata": {},
   "outputs": [
    {
     "name": "stdout",
     "output_type": "stream",
     "text": [
      "cchrishan\n",
      "came\n",
      "cadeeman\n",
      "cayskak\n",
      "chareya\n",
      "calyi\n",
      "cori\n",
      "cataelee\n",
      "coatelynn\n",
      "castia\n"
     ]
    }
   ],
   "source": [
    "# Generate random names based on prompt\n",
    "# Not the best though\n",
    "# Below shows a few generated names starting with 'c'\n",
    "\n",
    "prompt = 'c'\n",
    "for i in range(10):\n",
    "    context = [0]*blk_sz\n",
    "    firstchar = stoi.get(prompt)\n",
    "    while True:\n",
    "        emb = C[torch.tensor([context])]\n",
    "        p = mdl(emb.view(-1, blk_sz*emb_sz))\n",
    "        if prompt and firstchar:\n",
    "            ix = firstchar\n",
    "            firstchar = ''\n",
    "        else:\n",
    "            ix = torch.multinomial(F.softmax(p, 1), num_samples=1, generator=sd).item()\n",
    "        context = context[1:] + [ix]\n",
    "        if ix == 0:\n",
    "            print()\n",
    "            break\n",
    "        else:\n",
    "            print(itos[ix], end='')"
   ]
  }
 ],
 "metadata": {
  "kernelspec": {
   "display_name": "Python 3 (ipykernel)",
   "language": "python",
   "name": "python3"
  },
  "language_info": {
   "codemirror_mode": {
    "name": "ipython",
    "version": 3
   },
   "file_extension": ".py",
   "mimetype": "text/x-python",
   "name": "python",
   "nbconvert_exporter": "python",
   "pygments_lexer": "ipython3",
   "version": "3.10.12"
  }
 },
 "nbformat": 4,
 "nbformat_minor": 5
}
